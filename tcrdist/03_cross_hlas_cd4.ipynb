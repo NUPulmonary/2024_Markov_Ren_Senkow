{
 "cells": [
  {
   "cell_type": "code",
   "execution_count": 1,
   "id": "055e9baa-2acb-4df3-ad53-38c639399e86",
   "metadata": {},
   "outputs": [],
   "source": [
    "import pandas as pd\n",
    "import numpy as np\n",
    "import tcrdist\n",
    "import tcrdist.repertoire\n",
    "\n",
    "import matplotlib as mpl\n",
    "import matplotlib.pyplot as plt\n",
    "\n",
    "import seaborn as sns\n",
    "import itertools\n",
    "import os\n",
    "import pathlib\n",
    "import subprocess\n",
    "import io\n",
    "import re"
   ]
  },
  {
   "cell_type": "code",
   "execution_count": 2,
   "id": "4cdcf2ea-1f6c-4e50-b671-297f10b580ef",
   "metadata": {},
   "outputs": [],
   "source": [
    "%config InlineBackend.figure_format = \"retina\""
   ]
  },
  {
   "cell_type": "code",
   "execution_count": 3,
   "id": "07a25ef4-6966-4f34-8d72-710d773e7efe",
   "metadata": {},
   "outputs": [
    {
     "data": {
      "text/html": [
       "\n",
       "<style>\n",
       ".lm-Widget {overflow-x: scroll !important;}\n",
       "</style>\n"
      ],
      "text/plain": [
       "<IPython.core.display.HTML object>"
      ]
     },
     "metadata": {},
     "output_type": "display_data"
    }
   ],
   "source": [
    "from IPython.display import display, HTML\n",
    "display(HTML(\"\"\"\n",
    "<style>\n",
    ".lm-Widget {overflow-x: scroll !important;}\n",
    "</style>\n",
    "\"\"\"))"
   ]
  },
  {
   "cell_type": "code",
   "execution_count": 4,
   "id": "d723fe85-6902-4c77-806d-2d3e5f00b6ec",
   "metadata": {},
   "outputs": [],
   "source": [
    "pd.options.display.max_columns = 200"
   ]
  },
  {
   "cell_type": "code",
   "execution_count": 5,
   "id": "7a99dd25-69b5-4ede-bb6f-2b3b210011df",
   "metadata": {},
   "outputs": [],
   "source": [
    "pd.options.display.max_rows = 200"
   ]
  },
  {
   "cell_type": "code",
   "execution_count": 6,
   "id": "e26555f3-8635-4235-aa83-8c7dcfb2ff08",
   "metadata": {},
   "outputs": [],
   "source": [
    "all_hlas = pd.read_csv('../analysis/mira_postgliph_hla_cd4_all.csv', index_col=0)"
   ]
  },
  {
   "cell_type": "code",
   "execution_count": 7,
   "id": "de3f0a87-4d77-4533-ad70-8d1392909d1b",
   "metadata": {},
   "outputs": [
    {
     "data": {
      "text/plain": [
       "19"
      ]
     },
     "execution_count": 7,
     "metadata": {},
     "output_type": "execute_result"
    }
   ],
   "source": [
    "all_hlas.Patient.nunique()"
   ]
  },
  {
   "cell_type": "code",
   "execution_count": 8,
   "id": "33b48dfa-3008-4a5e-b64f-b2c628e60253",
   "metadata": {},
   "outputs": [],
   "source": [
    "for column in all_hlas.columns:\n",
    "    if pd.api.types.is_object_dtype(all_hlas[column]):\n",
    "        all_hlas[column] = all_hlas[column].str.replace('!', '')"
   ]
  },
  {
   "cell_type": "code",
   "execution_count": 9,
   "id": "00bbf61d-7b30-40c6-801e-63df37989d2a",
   "metadata": {},
   "outputs": [],
   "source": [
    "mira = pd.read_csv('../analysis/mira_postgliph_cd4_2.csv', index_col=0)"
   ]
  },
  {
   "cell_type": "code",
   "execution_count": 10,
   "id": "86d8d93a-c48b-451a-bbc7-c9e8f550e989",
   "metadata": {},
   "outputs": [
    {
     "data": {
      "text/plain": [
       "array(['CD4'], dtype=object)"
      ]
     },
     "execution_count": 10,
     "metadata": {},
     "output_type": "execute_result"
    }
   ],
   "source": [
    "mira['cell.type'].unique()"
   ]
  },
  {
   "cell_type": "code",
   "execution_count": null,
   "id": "48525fd8-1d3e-45f9-bc4d-3de6fa6826a8",
   "metadata": {},
   "outputs": [],
   "source": [
    "all_hlas"
   ]
  },
  {
   "cell_type": "markdown",
   "id": "0de2e782-2787-4f7f-adb3-7dbf69008339",
   "metadata": {},
   "source": [
    "# Prepare HLAs\n",
    "\n",
    "1. For each allele: `DP, DQ, DR` put as many rows as needed for each patient\n",
    "2. Each allele for `DP` is a combo of `DPA` and `DPB` separated by `/`\n",
    "3. Each allele for `DQ` is a combo if `DQA` and `DQB` separated by `/`\n",
    "4. Each allele for `DR` is one item of `DRB1/3/4/5`"
   ]
  },
  {
   "cell_type": "code",
   "execution_count": 13,
   "id": "98fe3d8a-66e0-43b0-913b-3938830f690e",
   "metadata": {},
   "outputs": [],
   "source": [
    "all_hlas = all_hlas.replace('-', '')"
   ]
  },
  {
   "cell_type": "code",
   "execution_count": 14,
   "id": "9c9a3883-1161-4ffe-a186-f7b1d0495862",
   "metadata": {},
   "outputs": [],
   "source": [
    "all_hlas['hla_dpa'] = all_hlas['HLA-DPA1'].str.split('/')"
   ]
  },
  {
   "cell_type": "code",
   "execution_count": 15,
   "id": "743c20da-5946-43e4-a3d2-6fa221e1bf62",
   "metadata": {},
   "outputs": [],
   "source": [
    "all_hlas['hla_dpb'] = all_hlas['HLA-DPB1'].str.split('/')"
   ]
  },
  {
   "cell_type": "code",
   "execution_count": 16,
   "id": "dfb4fb29-5fd7-4612-9915-2102dcc78a8f",
   "metadata": {},
   "outputs": [],
   "source": [
    "def hla_dp(row):\n",
    "    if len(row.hla_dpa) == 0 or len(row.hla_dpb) == 0:\n",
    "        return np.nan\n",
    "    if row.hla_dpa == [''] or row.hla_dpb == ['']:\n",
    "        return np.nan\n",
    "    return [\n",
    "        f'{a}/{b}'\n",
    "        for a, b in itertools.product(row.hla_dpa, row.hla_dpb)\n",
    "    ]\n",
    "all_hlas['hla_dp'] = all_hlas.apply(hla_dp, axis=1)"
   ]
  },
  {
   "cell_type": "code",
   "execution_count": 17,
   "id": "25829ac6-de07-4f0a-9b89-f35f2f6bda51",
   "metadata": {},
   "outputs": [],
   "source": [
    "hla_dp = all_hlas.explode('hla_dp')"
   ]
  },
  {
   "cell_type": "code",
   "execution_count": 18,
   "id": "301d68fa-1a4a-460c-87cc-74d166dc0ff0",
   "metadata": {},
   "outputs": [],
   "source": [
    "all_hlas['hla_dqa'] = all_hlas['HLA-DQA1'].str.split('/')"
   ]
  },
  {
   "cell_type": "code",
   "execution_count": 19,
   "id": "06f238bf-4c60-48de-9f2d-16b07b823894",
   "metadata": {},
   "outputs": [],
   "source": [
    "all_hlas['hla_dqb'] = all_hlas['HLA-DQB1'].str.split('/')"
   ]
  },
  {
   "cell_type": "code",
   "execution_count": 20,
   "id": "1c037c23-f9e8-44e6-954f-f66c268fb1e4",
   "metadata": {},
   "outputs": [],
   "source": [
    "def hla_dq(row):\n",
    "    if len(row.hla_dqa) == 0 or len(row.hla_dqb) == 0:\n",
    "        return np.nan\n",
    "    if row.hla_dqa == [''] or row.hla_dqb == ['']:\n",
    "        return np.nan\n",
    "    return [\n",
    "        f'{a}/{b}'\n",
    "        for a, b in itertools.product(row.hla_dqa, row.hla_dqb)\n",
    "    ]\n",
    "all_hlas['hla_dq'] = all_hlas.apply(hla_dq, axis=1)"
   ]
  },
  {
   "cell_type": "code",
   "execution_count": 21,
   "id": "3da2f546-5bf1-46be-9aff-85b1139c7738",
   "metadata": {},
   "outputs": [],
   "source": [
    "hla_dq = all_hlas.explode('hla_dq')"
   ]
  },
  {
   "cell_type": "code",
   "execution_count": 22,
   "id": "57d46c0f-9627-4ffa-badc-7dd3dcea6d63",
   "metadata": {},
   "outputs": [],
   "source": [
    "all_hlas['hla_drb1'] = all_hlas['HLA-DRB1'].str.split('/')\n",
    "all_hlas['hla_drb3'] = all_hlas['HLA-DRB3'].str.split('/')\n",
    "all_hlas['hla_drb4'] = all_hlas['HLA-DRB4'].str.split('/')\n",
    "all_hlas['hla_drb5'] = all_hlas['HLA-DRB5'].str.split('/')"
   ]
  },
  {
   "cell_type": "code",
   "execution_count": 23,
   "id": "48aa6156-6c72-4e87-abf2-ecc41d92de70",
   "metadata": {},
   "outputs": [],
   "source": [
    "def hla_dr(row):\n",
    "    return [\n",
    "        x\n",
    "        for x in itertools.chain(row.hla_drb1, row.hla_drb3, row.hla_drb4, row.hla_drb5)\n",
    "        if x != ''\n",
    "    ]\n",
    "all_hlas['hla_dr'] = all_hlas.apply(hla_dr, axis=1)"
   ]
  },
  {
   "cell_type": "code",
   "execution_count": 24,
   "id": "182abe16-b7bf-48c0-a1de-5b307d920c5e",
   "metadata": {},
   "outputs": [],
   "source": [
    "hla_dr = all_hlas.explode('hla_dr')"
   ]
  },
  {
   "cell_type": "markdown",
   "id": "9cfdfafd-7863-4aba-9a5a-0706b0f1eec9",
   "metadata": {},
   "source": [
    "# IEDB HLA binding affinity"
   ]
  },
  {
   "cell_type": "code",
   "execution_count": 25,
   "id": "d2257ab9-e00d-454e-b6a1-d717ac8e6405",
   "metadata": {},
   "outputs": [],
   "source": [
    "IEDB_QUERY = pathlib.Path('03_iedb_query_mhc2')"
   ]
  },
  {
   "cell_type": "code",
   "execution_count": 26,
   "id": "cab9be9e-1537-4422-913a-a1260e7f0375",
   "metadata": {},
   "outputs": [],
   "source": [
    "os.makedirs(IEDB_QUERY, exist_ok=True)"
   ]
  },
  {
   "cell_type": "code",
   "execution_count": 27,
   "id": "59920013-b87d-46d4-bf57-1ac8cf2aba2e",
   "metadata": {},
   "outputs": [],
   "source": [
    "hla_info = hla_dp.groupby('Patient').agg({\n",
    "    'hla_dp': tuple,\n",
    "}).reset_index()"
   ]
  },
  {
   "cell_type": "code",
   "execution_count": 28,
   "id": "6653d463-9270-42dc-9133-38584280617f",
   "metadata": {},
   "outputs": [],
   "source": [
    "mira_hla = mira.merge(hla_info, left_on='study_id', right_on='Patient', how='left')"
   ]
  },
  {
   "cell_type": "code",
   "execution_count": 29,
   "id": "e847e396-4cfc-4b42-aaf6-64977e7379d5",
   "metadata": {},
   "outputs": [],
   "source": [
    "all_epitopes = pd.Series(pd.Series(itertools.chain(*mira_hla.Amino_Acids.str.split(','))).unique())"
   ]
  },
  {
   "cell_type": "code",
   "execution_count": 30,
   "id": "fb17411f-64bb-40c3-9e80-bf5bb8de253c",
   "metadata": {},
   "outputs": [],
   "source": [
    "def generate_fastq(epitopes):\n",
    "    epitope_fastq = ''\n",
    "    for epitope in epitopes:\n",
    "        epitope_fastq += f'> {epitope}\\n{epitope}\\n\\n'\n",
    "    return epitope_fastq"
   ]
  },
  {
   "cell_type": "code",
   "execution_count": 31,
   "id": "17756c37-706a-4072-826a-99ba6ff1fc43",
   "metadata": {},
   "outputs": [],
   "source": [
    "epitope_fastqs = all_epitopes.groupby(all_epitopes.str.len()).apply(generate_fastq)"
   ]
  },
  {
   "cell_type": "code",
   "execution_count": 32,
   "id": "7e385375-8ace-47d9-ad1b-ee0176b92499",
   "metadata": {},
   "outputs": [],
   "source": [
    "for length, fastq in epitope_fastqs.items():\n",
    "    with open(IEDB_QUERY / f'epitopes_{length}.fasta', 'w') as f:\n",
    "        f.write(fastq)"
   ]
  },
  {
   "cell_type": "code",
   "execution_count": 33,
   "id": "3d28e0af-fe4b-4201-a857-7774e6cdbef8",
   "metadata": {},
   "outputs": [],
   "source": [
    "IEDB_TOOL = '/projects/p31980/MoralesNebreda_Lab/tools/mhc_ii/mhc_II_binding.py'"
   ]
  },
  {
   "cell_type": "code",
   "execution_count": 34,
   "id": "92433db8-95bb-4f94-8bd0-f366a927ca3e",
   "metadata": {},
   "outputs": [],
   "source": [
    "ALL_BAD_ALLELES = {}"
   ]
  },
  {
   "cell_type": "code",
   "execution_count": 35,
   "id": "e4ab92db-d68c-4477-9e6a-935e0a8e6248",
   "metadata": {},
   "outputs": [],
   "source": [
    "ALL_RESULTS = {}"
   ]
  },
  {
   "cell_type": "markdown",
   "id": "07b124fd-5a5e-409d-8c10-1df799eadccf",
   "metadata": {},
   "source": [
    "## 1. DP"
   ]
  },
  {
   "cell_type": "code",
   "execution_count": 37,
   "id": "dd22e54a-4bcd-41f1-a611-4f4e7997ea78",
   "metadata": {},
   "outputs": [],
   "source": [
    "unique_hlas = pd.Series(hla_dp.hla_dp.dropna().unique())"
   ]
  },
  {
   "cell_type": "code",
   "execution_count": 38,
   "id": "b95e6d07-b304-4df8-ac85-f58f84c8b7aa",
   "metadata": {},
   "outputs": [
    {
     "name": "stdout",
     "output_type": "stream",
     "text": [
      "CPU times: user 7.49 ms, sys: 6.95 ms, total: 14.4 ms\n",
      "Wall time: 71.1 ms\n"
     ]
    }
   ],
   "source": [
    "%%time\n",
    "bad_alleles = []\n",
    "CACHE = IEDB_QUERY / 'hla_dp_results.csv'\n",
    "if CACHE.exists():\n",
    "    iedb_results = pd.read_csv(CACHE, index_col=0)\n",
    "else:\n",
    "    iedb_results = []\n",
    "    for length in epitope_fastqs.index:\n",
    "        for _ in range(2):\n",
    "            command = [\n",
    "                'python3',\n",
    "                IEDB_TOOL,\n",
    "                'netmhciipan_el',\n",
    "                ','.join(unique_hlas),\n",
    "                str(IEDB_QUERY / f'epitopes_{length}.fasta'),\n",
    "                ','.join([str(length)] * unique_hlas.size)\n",
    "            ]\n",
    "            result = subprocess.run(command, capture_output=True)\n",
    "            if result.returncode == 1:\n",
    "                if result.stderr.decode().startswith('Invalid allele'):\n",
    "                    bad_alleles = re.search(r'Invalid allele name \"([^\"]+)\"', result.stderr.decode())\n",
    "                    bad_alleles = re.split(r',\\s+', bad_alleles.group(1))\n",
    "                    unique_hlas = pd.Series(list(set(unique_hlas) - set(bad_alleles)))\n",
    "                else:\n",
    "                    raise ValueError(result.stderr)\n",
    "        iedb_results.append(pd.read_table(io.StringIO(result.stdout.decode())))\n",
    "    iedb_results = pd.concat(iedb_results)\n",
    "    iedb_results.reset_index(drop=True, inplace=True)\n",
    "    iedb_results.to_csv(CACHE)"
   ]
  },
  {
   "cell_type": "code",
   "execution_count": 39,
   "id": "44124e72-a704-4c96-8d8e-df56776aae2a",
   "metadata": {},
   "outputs": [],
   "source": [
    "ALL_BAD_ALLELES['dp'] = bad_alleles"
   ]
  },
  {
   "cell_type": "code",
   "execution_count": 40,
   "id": "1bb04221-8119-4647-9c72-cda4ef30cc58",
   "metadata": {},
   "outputs": [],
   "source": [
    "ALL_RESULTS['dp'] = iedb_results"
   ]
  },
  {
   "cell_type": "markdown",
   "id": "6d5427ef-8073-4030-98b0-f6bddf1e4ebb",
   "metadata": {},
   "source": [
    "## 1. DQ"
   ]
  },
  {
   "cell_type": "code",
   "execution_count": 41,
   "id": "96c209fe-575b-44cf-8488-a59607006d17",
   "metadata": {},
   "outputs": [],
   "source": [
    "unique_hlas = pd.Series(hla_dq.hla_dq.dropna().unique())"
   ]
  },
  {
   "cell_type": "code",
   "execution_count": 42,
   "id": "4663d4bf-7627-49d5-9360-6930fc98caa4",
   "metadata": {},
   "outputs": [
    {
     "name": "stdout",
     "output_type": "stream",
     "text": [
      "CPU times: user 5.88 ms, sys: 2.07 ms, total: 7.96 ms\n",
      "Wall time: 20 ms\n"
     ]
    }
   ],
   "source": [
    "%%time\n",
    "bad_alleles = []\n",
    "CACHE = IEDB_QUERY / 'hla_dq_results.csv'\n",
    "if CACHE.exists():\n",
    "    iedb_results = pd.read_csv(CACHE, index_col=0)\n",
    "else:\n",
    "    iedb_results = []\n",
    "    for length in epitope_fastqs.index:\n",
    "        for _ in range(2):\n",
    "            command = [\n",
    "                'python3',\n",
    "                IEDB_TOOL,\n",
    "                'netmhciipan_el',\n",
    "                ','.join(unique_hlas),\n",
    "                str(IEDB_QUERY / f'epitopes_{length}.fasta'),\n",
    "                ','.join([str(length)] * unique_hlas.size)\n",
    "            ]\n",
    "            result = subprocess.run(command, capture_output=True)\n",
    "            if result.returncode == 1:\n",
    "                if result.stderr.decode().startswith('Invalid allele'):\n",
    "                    bad_alleles = re.search(r'Invalid allele name \"([^\"]+)\"', result.stderr.decode())\n",
    "                    bad_alleles = re.split(r',\\s+', bad_alleles.group(1))\n",
    "                    unique_hlas = pd.Series(list(set(unique_hlas) - set(bad_alleles)))\n",
    "                else:\n",
    "                    raise ValueError(result.stderr)\n",
    "        iedb_results.append(pd.read_table(io.StringIO(result.stdout.decode())))\n",
    "    iedb_results = pd.concat(iedb_results)\n",
    "    iedb_results.reset_index(drop=True, inplace=True)\n",
    "    iedb_results.to_csv(CACHE)"
   ]
  },
  {
   "cell_type": "code",
   "execution_count": 43,
   "id": "c852b9fe-5d93-4520-ac31-1953dfb70097",
   "metadata": {},
   "outputs": [],
   "source": [
    "ALL_BAD_ALLELES['dq'] = bad_alleles"
   ]
  },
  {
   "cell_type": "code",
   "execution_count": 44,
   "id": "626d4945-f3ea-45d9-b960-3a21b48c02fe",
   "metadata": {},
   "outputs": [],
   "source": [
    "ALL_RESULTS['dq'] = iedb_results"
   ]
  },
  {
   "cell_type": "markdown",
   "id": "ed3637e3-b578-43cd-807e-56745ca4f0d0",
   "metadata": {},
   "source": [
    "## 1. DR"
   ]
  },
  {
   "cell_type": "code",
   "execution_count": 45,
   "id": "8e7f03d0-4630-4b05-a8cc-064d4edd02ac",
   "metadata": {},
   "outputs": [],
   "source": [
    "unique_hlas = pd.Series(hla_dr.hla_dr.dropna().unique())"
   ]
  },
  {
   "cell_type": "code",
   "execution_count": 46,
   "id": "4c4d3e0d-9914-46f1-a2c8-05d9b0bf3861",
   "metadata": {},
   "outputs": [
    {
     "name": "stdout",
     "output_type": "stream",
     "text": [
      "CPU times: user 9.62 ms, sys: 3.6 ms, total: 13.2 ms\n",
      "Wall time: 54.5 ms\n"
     ]
    }
   ],
   "source": [
    "%%time\n",
    "bad_alleles = []\n",
    "CACHE = IEDB_QUERY / 'hla_dr_results.csv'\n",
    "if CACHE.exists():\n",
    "    iedb_results = pd.read_csv(CACHE, index_col=0)\n",
    "else:\n",
    "    iedb_results = []\n",
    "    for length in epitope_fastqs.index:\n",
    "        for _ in range(2):\n",
    "            command = [\n",
    "                'python3',\n",
    "                IEDB_TOOL,\n",
    "                'netmhciipan_el',\n",
    "                ','.join(unique_hlas),\n",
    "                str(IEDB_QUERY / f'epitopes_{length}.fasta'),\n",
    "                ','.join([str(length)] * unique_hlas.size)\n",
    "            ]\n",
    "            result = subprocess.run(command, capture_output=True)\n",
    "            if result.returncode == 1:\n",
    "                if result.stderr.decode().startswith('Invalid allele'):\n",
    "                    bad_alleles = re.search(r'Invalid allele name \"([^\"]+)\"', result.stderr.decode())\n",
    "                    bad_alleles = re.split(r',\\s+', bad_alleles.group(1))\n",
    "                    unique_hlas = pd.Series(list(set(unique_hlas) - set(bad_alleles)))\n",
    "                else:\n",
    "                    raise ValueError(result.stderr)\n",
    "        iedb_results.append(pd.read_table(io.StringIO(result.stdout.decode())))\n",
    "    iedb_results = pd.concat(iedb_results)\n",
    "    iedb_results.reset_index(drop=True, inplace=True)\n",
    "    iedb_results.to_csv(CACHE)"
   ]
  },
  {
   "cell_type": "code",
   "execution_count": 47,
   "id": "b910a1b4-dfb9-4eb6-b2d3-6a94051bfff0",
   "metadata": {},
   "outputs": [],
   "source": [
    "ALL_BAD_ALLELES['dr'] = bad_alleles"
   ]
  },
  {
   "cell_type": "code",
   "execution_count": 48,
   "id": "80989a63-a1e7-4cdf-b1ca-addbf94a1a7a",
   "metadata": {},
   "outputs": [],
   "source": [
    "ALL_RESULTS['dr'] = iedb_results"
   ]
  },
  {
   "cell_type": "code",
   "execution_count": 49,
   "id": "b4864958-5240-4161-8766-95c531304ca0",
   "metadata": {},
   "outputs": [],
   "source": [
    "iedb_results = pd.concat(ALL_RESULTS.values())\n",
    "iedb_results.allele = iedb_results.allele.str.replace('HLA-', '')\n",
    "iedb_results = iedb_results.set_index(['allele', 'peptide'])"
   ]
  },
  {
   "cell_type": "markdown",
   "id": "94e95b2b-3397-4f95-829e-891b8a5dbde8",
   "metadata": {},
   "source": [
    "## TODO\n",
    "\n",
    "1. for each row in mira\n",
    "2. for each epitope in the row\n",
    "3. find best (smallest) rank score for all allele\n",
    "4. report best rank score among epitopes for row"
   ]
  },
  {
   "cell_type": "code",
   "execution_count": 50,
   "id": "3873b3b3-b9ae-4d8a-a33e-aa306433b241",
   "metadata": {},
   "outputs": [],
   "source": [
    "iedb_mira_index = mira.Amino_Acids.apply(\n",
    "    lambda x: pd.Series(x.split(','))\n",
    ").reset_index(names='id').melt(\n",
    "    id_vars='id',\n",
    "    value_name='epitope'\n",
    ").dropna()"
   ]
  },
  {
   "cell_type": "code",
   "execution_count": 51,
   "id": "9b4d7aa5-40d9-44ad-b338-bc070aee8708",
   "metadata": {},
   "outputs": [],
   "source": [
    "iedb_mira_index = iedb_mira_index.merge(mira[['study_id']], left_on='id', right_index=True)"
   ]
  },
  {
   "cell_type": "code",
   "execution_count": 52,
   "id": "2046d9f1-a4f5-4ee7-99fd-37f84804e114",
   "metadata": {},
   "outputs": [],
   "source": [
    "iedb_mira_index = iedb_mira_index.merge(all_hlas[\n",
    "    ['Patient', 'hla_dp', 'hla_dq', 'hla_dr']\n",
    "], left_on='study_id', right_on='Patient')"
   ]
  },
  {
   "cell_type": "code",
   "execution_count": 53,
   "id": "5f7414d1-51f8-43c3-b609-b9aed001f2b4",
   "metadata": {},
   "outputs": [],
   "source": [
    "iedb_mira_index = iedb_mira_index.melt(\n",
    "    id_vars=['id', 'epitope', 'study_id'],\n",
    "    value_vars=['hla_dp', 'hla_dq', 'hla_dr'],\n",
    "    value_name='allele'\n",
    ")"
   ]
  },
  {
   "cell_type": "code",
   "execution_count": 56,
   "id": "4c86f419-010f-457d-9009-587c017d07e8",
   "metadata": {},
   "outputs": [],
   "source": [
    "iedb_mira_index = iedb_mira_index.dropna()"
   ]
  },
  {
   "cell_type": "code",
   "execution_count": 57,
   "id": "3d839830-d7bd-4381-9b4c-2c35265aa299",
   "metadata": {},
   "outputs": [],
   "source": [
    "iedb_mira_index = iedb_mira_index.explode('allele')"
   ]
  },
  {
   "cell_type": "code",
   "execution_count": 59,
   "id": "433d34f6-a583-4dad-88f2-323838a64d48",
   "metadata": {},
   "outputs": [],
   "source": [
    "iedb_mira_index = iedb_mira_index.dropna()"
   ]
  },
  {
   "cell_type": "code",
   "execution_count": 61,
   "id": "a985e997-3937-48c1-a527-4bc9d669df78",
   "metadata": {},
   "outputs": [],
   "source": [
    "iedb_mira_index = iedb_mira_index.groupby('id').apply(\n",
    "    lambda x: x.drop_duplicates(),\n",
    "    include_groups=False\n",
    ").reset_index(names=['id', '_'])"
   ]
  },
  {
   "cell_type": "code",
   "execution_count": 63,
   "id": "62b639d0-650a-47d5-a320-4a37698034ad",
   "metadata": {},
   "outputs": [
    {
     "data": {
      "text/plain": [
       "Index([70], dtype='int64')"
      ]
     },
     "execution_count": 63,
     "metadata": {},
     "output_type": "execute_result"
    }
   ],
   "source": [
    "mira.index[~mira.index.isin(iedb_mira_index.id)]"
   ]
  },
  {
   "cell_type": "code",
   "execution_count": 64,
   "id": "2c397167-0566-40a3-9837-4ab21cc01347",
   "metadata": {},
   "outputs": [
    {
     "data": {
      "text/plain": [
       "(5125, 6)"
      ]
     },
     "execution_count": 64,
     "metadata": {},
     "output_type": "execute_result"
    }
   ],
   "source": [
    "iedb_mira_index.shape"
   ]
  },
  {
   "cell_type": "code",
   "execution_count": 65,
   "id": "21f756dd-c8a7-4d9b-96f6-5681e1323058",
   "metadata": {},
   "outputs": [],
   "source": [
    "index_values = pd.MultiIndex.from_tuples(\n",
    "    iedb_mira_index.apply(lambda r: (r.allele, r.epitope), axis=1).values\n",
    ")"
   ]
  },
  {
   "cell_type": "code",
   "execution_count": 66,
   "id": "df54a01c-c236-42ca-adbd-ef447a331039",
   "metadata": {},
   "outputs": [],
   "source": [
    "index_selection = index_values.isin(iedb_results.index)"
   ]
  },
  {
   "cell_type": "code",
   "execution_count": 67,
   "id": "e9bd7b41-6002-4512-a6cf-cdd7231183cd",
   "metadata": {},
   "outputs": [],
   "source": [
    "iedb_mira_index.loc[index_selection, 'binding_rank'] = iedb_results['percentile_rank'].loc[\n",
    "    index_values[index_selection]\n",
    "].values"
   ]
  },
  {
   "cell_type": "code",
   "execution_count": 68,
   "id": "fea7e432-153c-43dc-b6bc-e23a0a237eaf",
   "metadata": {},
   "outputs": [],
   "source": [
    "iedb_mira_index = iedb_mira_index.dropna()"
   ]
  },
  {
   "cell_type": "code",
   "execution_count": 69,
   "id": "05634d07-4752-4309-973b-193c2bd9e5e2",
   "metadata": {},
   "outputs": [],
   "source": [
    "iedb_affinity = iedb_mira_index.sort_values(['id', 'binding_rank']).groupby('id').head(1).set_index('id')"
   ]
  },
  {
   "cell_type": "code",
   "execution_count": 70,
   "id": "12886044-d4b0-46c1-90cd-50252e91656d",
   "metadata": {},
   "outputs": [],
   "source": [
    "idx = mira.index.isin(iedb_affinity.index)\n",
    "mira.loc[idx, 'binding_rank'] = iedb_affinity.binding_rank[mira.index[idx]]"
   ]
  },
  {
   "cell_type": "code",
   "execution_count": 71,
   "id": "0f1e5bf5-b6b9-4347-9bda-8adb4ab42754",
   "metadata": {},
   "outputs": [
    {
     "data": {
      "text/plain": [
       "1"
      ]
     },
     "execution_count": 71,
     "metadata": {},
     "output_type": "execute_result"
    }
   ],
   "source": [
    "mira.binding_rank.isna().sum()"
   ]
  },
  {
   "cell_type": "code",
   "execution_count": 72,
   "id": "6ff57659-75a8-4ebc-a64f-08fe01dda400",
   "metadata": {},
   "outputs": [
    {
     "data": {
      "text/plain": [
       "(232, 52)"
      ]
     },
     "execution_count": 72,
     "metadata": {},
     "output_type": "execute_result"
    }
   ],
   "source": [
    "mira.shape"
   ]
  },
  {
   "cell_type": "code",
   "execution_count": 73,
   "id": "dc95178d-3f31-4557-a915-90299883b6ba",
   "metadata": {},
   "outputs": [
    {
     "data": {
      "text/plain": [
       "5"
      ]
     },
     "execution_count": 73,
     "metadata": {},
     "output_type": "execute_result"
    }
   ],
   "source": [
    "mira.binding_rank.lt(1).sum()"
   ]
  },
  {
   "cell_type": "code",
   "execution_count": 74,
   "id": "d9fe5681-dcea-4a2a-90ee-74ec3c030a1b",
   "metadata": {},
   "outputs": [
    {
     "data": {
      "text/plain": [
       "<Axes: ylabel='Frequency'>"
      ]
     },
     "execution_count": 74,
     "metadata": {},
     "output_type": "execute_result"
    },
    {
     "data": {
      "image/png": "[encoded data removed]",
      "text/plain": [
       "<Figure size 640x480 with 1 Axes>"
      ]
     },
     "metadata": {
      "image/png": {
       "height": 413,
       "width": 562
      }
     },
     "output_type": "display_data"
    }
   ],
   "source": [
    "mira.binding_rank.plot.hist(bins=50)"
   ]
  },
  {
   "cell_type": "code",
   "execution_count": 75,
   "id": "9abc1244-c75a-4853-a1de-97091fe91184",
   "metadata": {},
   "outputs": [
    {
     "data": {
      "text/plain": [
       "68"
      ]
     },
     "execution_count": 75,
     "metadata": {},
     "output_type": "execute_result"
    }
   ],
   "source": [
    "mira.binding_rank.ge(5).sum()"
   ]
  },
  {
   "cell_type": "code",
   "execution_count": null,
   "id": "876a8a6d-994a-41a4-9290-11bdc0d61a6a",
   "metadata": {},
   "outputs": [],
   "source": [
    "mira"
   ]
  },
  {
   "cell_type": "markdown",
   "id": "de63663b-548a-4f1d-93bb-5cdbb630724d",
   "metadata": {},
   "source": [
    "## JOIN Pgen"
   ]
  },
  {
   "cell_type": "code",
   "execution_count": 77,
   "id": "658ad7c6-2d3f-4883-ba04-f964c7498c5f",
   "metadata": {},
   "outputs": [],
   "source": [
    "pgens = pd.read_csv('../analysis/cd4_post_gliph_tcr_with_pgen.csv', index_col=0)"
   ]
  },
  {
   "cell_type": "code",
   "execution_count": 78,
   "id": "a3de39ea-5e11-49e2-83fb-e33922d4b9c4",
   "metadata": {},
   "outputs": [
    {
     "data": {
      "text/html": [
       "<div>\n",
       "<style scoped>\n",
       "    .dataframe tbody tr th:only-of-type {\n",
       "        vertical-align: middle;\n",
       "    }\n",
       "\n",
       "    .dataframe tbody tr th {\n",
       "        vertical-align: top;\n",
       "    }\n",
       "\n",
       "    .dataframe thead th {\n",
       "        text-align: right;\n",
       "    }\n",
       "</style>\n",
       "<table border=\"1\" class=\"dataframe\">\n",
       "  <thead>\n",
       "    <tr style=\"text-align: right;\">\n",
       "      <th></th>\n",
       "      <th>cdr3_b_aa</th>\n",
       "      <th>pgen_log10</th>\n",
       "    </tr>\n",
       "  </thead>\n",
       "  <tbody>\n",
       "    <tr>\n",
       "      <th>0</th>\n",
       "      <td>CASSQDTTETQYF</td>\n",
       "      <td>-7.665391</td>\n",
       "    </tr>\n",
       "    <tr>\n",
       "      <th>1</th>\n",
       "      <td>CASSLGGQETQYF</td>\n",
       "      <td>-5.676527</td>\n",
       "    </tr>\n",
       "    <tr>\n",
       "      <th>2</th>\n",
       "      <td>CASSLGLGNTIYF</td>\n",
       "      <td>-6.742806</td>\n",
       "    </tr>\n",
       "    <tr>\n",
       "      <th>3</th>\n",
       "      <td>CASSLSQSYEQYF</td>\n",
       "      <td>-7.015595</td>\n",
       "    </tr>\n",
       "    <tr>\n",
       "      <th>4</th>\n",
       "      <td>CASSYRQGHGYTF</td>\n",
       "      <td>-7.503169</td>\n",
       "    </tr>\n",
       "    <tr>\n",
       "      <th>...</th>\n",
       "      <td>...</td>\n",
       "      <td>...</td>\n",
       "    </tr>\n",
       "    <tr>\n",
       "      <th>1774</th>\n",
       "      <td>CAWSRQEDSPLHF</td>\n",
       "      <td>-9.574159</td>\n",
       "    </tr>\n",
       "    <tr>\n",
       "      <th>1775</th>\n",
       "      <td>CASSLPGFSPLHF</td>\n",
       "      <td>-7.780530</td>\n",
       "    </tr>\n",
       "    <tr>\n",
       "      <th>1776</th>\n",
       "      <td>CASSLPGFSPLHY</td>\n",
       "      <td>NaN</td>\n",
       "    </tr>\n",
       "    <tr>\n",
       "      <th>1777</th>\n",
       "      <td>CASSKQREAFF</td>\n",
       "      <td>-7.980961</td>\n",
       "    </tr>\n",
       "    <tr>\n",
       "      <th>1778</th>\n",
       "      <td>CASSRQREQYF</td>\n",
       "      <td>-6.912974</td>\n",
       "    </tr>\n",
       "  </tbody>\n",
       "</table>\n",
       "<p>1252 rows × 2 columns</p>\n",
       "</div>"
      ],
      "text/plain": [
       "          cdr3_b_aa  pgen_log10\n",
       "0     CASSQDTTETQYF   -7.665391\n",
       "1     CASSLGGQETQYF   -5.676527\n",
       "2     CASSLGLGNTIYF   -6.742806\n",
       "3     CASSLSQSYEQYF   -7.015595\n",
       "4     CASSYRQGHGYTF   -7.503169\n",
       "...             ...         ...\n",
       "1774  CAWSRQEDSPLHF   -9.574159\n",
       "1775  CASSLPGFSPLHF   -7.780530\n",
       "1776  CASSLPGFSPLHY         NaN\n",
       "1777    CASSKQREAFF   -7.980961\n",
       "1778    CASSRQREQYF   -6.912974\n",
       "\n",
       "[1252 rows x 2 columns]"
      ]
     },
     "execution_count": 78,
     "metadata": {},
     "output_type": "execute_result"
    }
   ],
   "source": [
    "pgens[['cdr3_b_aa', 'pgen_log10']].drop_duplicates()"
   ]
  },
  {
   "cell_type": "code",
   "execution_count": 79,
   "id": "5402a40b-3b58-4360-8747-cc1a199be17e",
   "metadata": {},
   "outputs": [
    {
     "data": {
      "text/plain": [
       "1252"
      ]
     },
     "execution_count": 79,
     "metadata": {},
     "output_type": "execute_result"
    }
   ],
   "source": [
    "pgens.cdr3_b_aa.nunique()"
   ]
  },
  {
   "cell_type": "code",
   "execution_count": 80,
   "id": "d9373dff-9a61-4cfe-88b9-94fd4ffca006",
   "metadata": {},
   "outputs": [],
   "source": [
    "tcr_to_pgen = pgens[['cdr3_b_aa', 'pgen_log10']].drop_duplicates().set_index('cdr3_b_aa').pgen_log10"
   ]
  },
  {
   "cell_type": "code",
   "execution_count": 81,
   "id": "bc72421d-a1cd-448a-89ef-bd47a25ba1a4",
   "metadata": {},
   "outputs": [],
   "source": [
    "mira['pgen_log10'] = tcr_to_pgen[mira.TCR].values"
   ]
  },
  {
   "cell_type": "markdown",
   "id": "542ad141-e26a-47db-b2bf-0f3f9d00e299",
   "metadata": {},
   "source": [
    "## SAVE"
   ]
  },
  {
   "cell_type": "code",
   "execution_count": 82,
   "id": "31d72d9b-5755-4dfb-9d0d-4fa384f214d1",
   "metadata": {},
   "outputs": [],
   "source": [
    "mira.to_csv(\n",
    "    '../analysis/cd4_mira_iedb_pgen_all.csv'\n",
    ")"
   ]
  },
  {
   "cell_type": "code",
   "execution_count": null,
   "id": "136a7d24-0eb6-4141-a6d8-aa426d3e6a92",
   "metadata": {},
   "outputs": [],
   "source": []
  }
 ],
 "metadata": {
  "kernelspec": {
   "display_name": "tcr",
   "language": "python",
   "name": "tcr"
  },
  "language_info": {
   "codemirror_mode": {
    "name": "ipython",
    "version": 3
   },
   "file_extension": ".py",
   "mimetype": "text/x-python",
   "name": "python",
   "nbconvert_exporter": "python",
   "pygments_lexer": "ipython3",
   "version": "3.11.8"
  }
 },
 "nbformat": 4,
 "nbformat_minor": 5
}
