{
 "cells": [
  {
   "cell_type": "code",
   "execution_count": 1,
   "id": "055e9baa-2acb-4df3-ad53-38c639399e86",
   "metadata": {},
   "outputs": [],
   "source": [
    "import pandas as pd\n",
    "import numpy as np\n",
    "import tcrdist\n",
    "import tcrdist.repertoire\n",
    "\n",
    "import matplotlib as mpl\n",
    "import matplotlib.pyplot as plt\n",
    "\n",
    "import seaborn as sns\n",
    "import itertools\n",
    "import os\n",
    "import pathlib\n",
    "import subprocess\n",
    "import io"
   ]
  },
  {
   "cell_type": "code",
   "execution_count": 2,
   "id": "4cdcf2ea-1f6c-4e50-b671-297f10b580ef",
   "metadata": {},
   "outputs": [],
   "source": [
    "%config InlineBackend.figure_format = \"retina\""
   ]
  },
  {
   "cell_type": "code",
   "execution_count": 3,
   "id": "07a25ef4-6966-4f34-8d72-710d773e7efe",
   "metadata": {},
   "outputs": [
    {
     "data": {
      "text/html": [
       "\n",
       "<style>\n",
       ".lm-Widget {overflow-x: scroll !important;}\n",
       "</style>\n"
      ],
      "text/plain": [
       "<IPython.core.display.HTML object>"
      ]
     },
     "metadata": {},
     "output_type": "display_data"
    }
   ],
   "source": [
    "from IPython.display import display, HTML\n",
    "display(HTML(\"\"\"\n",
    "<style>\n",
    ".lm-Widget {overflow-x: scroll !important;}\n",
    "</style>\n",
    "\"\"\"))"
   ]
  },
  {
   "cell_type": "code",
   "execution_count": 4,
   "id": "d723fe85-6902-4c77-806d-2d3e5f00b6ec",
   "metadata": {},
   "outputs": [],
   "source": [
    "pd.options.display.max_columns = 200"
   ]
  },
  {
   "cell_type": "code",
   "execution_count": 5,
   "id": "e26555f3-8635-4235-aa83-8c7dcfb2ff08",
   "metadata": {},
   "outputs": [],
   "source": [
    "hla_noncov = pd.read_csv('../analysis/mira_postgliph_hla_noncov_curated.csv')\n",
    "hla_cov = pd.read_csv('../analysis/mira_postgliph_hla_cov_curated.csv', index_col=0)"
   ]
  },
  {
   "cell_type": "code",
   "execution_count": 6,
   "id": "5952c56e-0336-4c78-9456-6df231b2ea1d",
   "metadata": {},
   "outputs": [],
   "source": [
    "all_hlas = pd.concat([hla_noncov, hla_cov])"
   ]
  },
  {
   "cell_type": "code",
   "execution_count": 7,
   "id": "7c2c7d6d-8980-434a-9b7e-6219f485e781",
   "metadata": {},
   "outputs": [],
   "source": [
    "all_hlas.hla_b = all_hlas.hla_b.replace({'B*07:01': 'B*07:02'})"
   ]
  },
  {
   "cell_type": "code",
   "execution_count": 8,
   "id": "de3f0a87-4d77-4533-ad70-8d1392909d1b",
   "metadata": {},
   "outputs": [
    {
     "data": {
      "text/plain": [
       "31"
      ]
     },
     "execution_count": 8,
     "metadata": {},
     "output_type": "execute_result"
    }
   ],
   "source": [
    "all_hlas.study_id.nunique()"
   ]
  },
  {
   "cell_type": "code",
   "execution_count": 9,
   "id": "00bbf61d-7b30-40c6-801e-63df37989d2a",
   "metadata": {},
   "outputs": [],
   "source": [
    "mira = pd.read_csv('../analysis/mira_postgliph_2.csv', index_col=0)"
   ]
  },
  {
   "cell_type": "code",
   "execution_count": 10,
   "id": "176f1a93-e2d7-4ca5-a084-506b09fc5bb0",
   "metadata": {},
   "outputs": [],
   "source": [
    "mira = mira.reset_index()"
   ]
  },
  {
   "cell_type": "markdown",
   "id": "4bbc6a2c-7fcc-4e9f-85f4-4949a8483f76",
   "metadata": {},
   "source": [
    "# Explore GLIPH duplicates pre-dedup"
   ]
  },
  {
   "cell_type": "code",
   "execution_count": 11,
   "id": "68561799-2353-4d64-ae08-50b2e8dbc1f3",
   "metadata": {},
   "outputs": [],
   "source": [
    "df = pd.read_csv('../analysis/post_gliph_filter_nik.csv', index_col=0)"
   ]
  },
  {
   "cell_type": "code",
   "execution_count": 12,
   "id": "eb0fcb9d-99b6-45e5-98be-5fda97a0429a",
   "metadata": {},
   "outputs": [
    {
     "data": {
      "text/plain": [
       "(2338, 10)"
      ]
     },
     "execution_count": 12,
     "metadata": {},
     "output_type": "execute_result"
    }
   ],
   "source": [
    "df.shape"
   ]
  },
  {
   "cell_type": "code",
   "execution_count": null,
   "id": "ab93c2c7-4a2f-44be-b388-5fe7e665eb76",
   "metadata": {},
   "outputs": [],
   "source": [
    "df"
   ]
  },
  {
   "cell_type": "code",
   "execution_count": 14,
   "id": "72317640-2d42-44d6-9137-d837f7842125",
   "metadata": {},
   "outputs": [
    {
     "data": {
      "text/plain": [
       "1196"
      ]
     },
     "execution_count": 14,
     "metadata": {},
     "output_type": "execute_result"
    }
   ],
   "source": [
    "df.TcRb.nunique()"
   ]
  },
  {
   "cell_type": "code",
   "execution_count": 15,
   "id": "61e8849b-fcf0-413c-9a48-d6b1d7b56e25",
   "metadata": {},
   "outputs": [],
   "source": [
    "tcr_df = df.groupby('TcRb').agg({\n",
    "    'TcRb': 'size',\n",
    "    'pattern': 'nunique',\n",
    "    'study_id': 'nunique',\n",
    "}).rename(columns={'TcRb': 'n_tcrs', 'pattern': 'n_patterns', 'study_id': 'n_patients'})"
   ]
  },
  {
   "cell_type": "code",
   "execution_count": 16,
   "id": "d883d260-2518-4218-8213-df97da621ac5",
   "metadata": {},
   "outputs": [
    {
     "data": {
      "text/html": [
       "<div>\n",
       "<style scoped>\n",
       "    .dataframe tbody tr th:only-of-type {\n",
       "        vertical-align: middle;\n",
       "    }\n",
       "\n",
       "    .dataframe tbody tr th {\n",
       "        vertical-align: top;\n",
       "    }\n",
       "\n",
       "    .dataframe thead th {\n",
       "        text-align: right;\n",
       "    }\n",
       "</style>\n",
       "<table border=\"1\" class=\"dataframe\">\n",
       "  <thead>\n",
       "    <tr style=\"text-align: right;\">\n",
       "      <th></th>\n",
       "      <th>n_tcrs</th>\n",
       "      <th>n_patterns</th>\n",
       "      <th>n_patients</th>\n",
       "      <th>cnt</th>\n",
       "    </tr>\n",
       "  </thead>\n",
       "  <tbody>\n",
       "    <tr>\n",
       "      <th>0</th>\n",
       "      <td>1</td>\n",
       "      <td>1</td>\n",
       "      <td>1</td>\n",
       "      <td>758</td>\n",
       "    </tr>\n",
       "    <tr>\n",
       "      <th>1</th>\n",
       "      <td>2</td>\n",
       "      <td>1</td>\n",
       "      <td>1</td>\n",
       "      <td>134</td>\n",
       "    </tr>\n",
       "    <tr>\n",
       "      <th>3</th>\n",
       "      <td>3</td>\n",
       "      <td>1</td>\n",
       "      <td>1</td>\n",
       "      <td>33</td>\n",
       "    </tr>\n",
       "    <tr>\n",
       "      <th>4</th>\n",
       "      <td>2</td>\n",
       "      <td>1</td>\n",
       "      <td>2</td>\n",
       "      <td>29</td>\n",
       "    </tr>\n",
       "    <tr>\n",
       "      <th>6</th>\n",
       "      <td>4</td>\n",
       "      <td>1</td>\n",
       "      <td>1</td>\n",
       "      <td>16</td>\n",
       "    </tr>\n",
       "    <tr>\n",
       "      <th>7</th>\n",
       "      <td>3</td>\n",
       "      <td>1</td>\n",
       "      <td>2</td>\n",
       "      <td>11</td>\n",
       "    </tr>\n",
       "    <tr>\n",
       "      <th>9</th>\n",
       "      <td>5</td>\n",
       "      <td>1</td>\n",
       "      <td>1</td>\n",
       "      <td>9</td>\n",
       "    </tr>\n",
       "    <tr>\n",
       "      <th>11</th>\n",
       "      <td>5</td>\n",
       "      <td>1</td>\n",
       "      <td>2</td>\n",
       "      <td>6</td>\n",
       "    </tr>\n",
       "    <tr>\n",
       "      <th>12</th>\n",
       "      <td>4</td>\n",
       "      <td>1</td>\n",
       "      <td>2</td>\n",
       "      <td>5</td>\n",
       "    </tr>\n",
       "    <tr>\n",
       "      <th>16</th>\n",
       "      <td>6</td>\n",
       "      <td>1</td>\n",
       "      <td>1</td>\n",
       "      <td>4</td>\n",
       "    </tr>\n",
       "    <tr>\n",
       "      <th>19</th>\n",
       "      <td>3</td>\n",
       "      <td>1</td>\n",
       "      <td>3</td>\n",
       "      <td>3</td>\n",
       "    </tr>\n",
       "    <tr>\n",
       "      <th>21</th>\n",
       "      <td>7</td>\n",
       "      <td>1</td>\n",
       "      <td>1</td>\n",
       "      <td>3</td>\n",
       "    </tr>\n",
       "    <tr>\n",
       "      <th>22</th>\n",
       "      <td>4</td>\n",
       "      <td>1</td>\n",
       "      <td>3</td>\n",
       "      <td>2</td>\n",
       "    </tr>\n",
       "    <tr>\n",
       "      <th>23</th>\n",
       "      <td>5</td>\n",
       "      <td>1</td>\n",
       "      <td>3</td>\n",
       "      <td>2</td>\n",
       "    </tr>\n",
       "    <tr>\n",
       "      <th>24</th>\n",
       "      <td>9</td>\n",
       "      <td>1</td>\n",
       "      <td>2</td>\n",
       "      <td>2</td>\n",
       "    </tr>\n",
       "    <tr>\n",
       "      <th>25</th>\n",
       "      <td>5</td>\n",
       "      <td>1</td>\n",
       "      <td>4</td>\n",
       "      <td>2</td>\n",
       "    </tr>\n",
       "    <tr>\n",
       "      <th>26</th>\n",
       "      <td>6</td>\n",
       "      <td>1</td>\n",
       "      <td>4</td>\n",
       "      <td>2</td>\n",
       "    </tr>\n",
       "    <tr>\n",
       "      <th>29</th>\n",
       "      <td>8</td>\n",
       "      <td>1</td>\n",
       "      <td>4</td>\n",
       "      <td>2</td>\n",
       "    </tr>\n",
       "    <tr>\n",
       "      <th>30</th>\n",
       "      <td>4</td>\n",
       "      <td>1</td>\n",
       "      <td>4</td>\n",
       "      <td>1</td>\n",
       "    </tr>\n",
       "    <tr>\n",
       "      <th>31</th>\n",
       "      <td>6</td>\n",
       "      <td>1</td>\n",
       "      <td>2</td>\n",
       "      <td>1</td>\n",
       "    </tr>\n",
       "    <tr>\n",
       "      <th>33</th>\n",
       "      <td>7</td>\n",
       "      <td>1</td>\n",
       "      <td>4</td>\n",
       "      <td>1</td>\n",
       "    </tr>\n",
       "    <tr>\n",
       "      <th>34</th>\n",
       "      <td>7</td>\n",
       "      <td>1</td>\n",
       "      <td>2</td>\n",
       "      <td>1</td>\n",
       "    </tr>\n",
       "    <tr>\n",
       "      <th>2</th>\n",
       "      <td>2</td>\n",
       "      <td>2</td>\n",
       "      <td>1</td>\n",
       "      <td>85</td>\n",
       "    </tr>\n",
       "    <tr>\n",
       "      <th>5</th>\n",
       "      <td>4</td>\n",
       "      <td>2</td>\n",
       "      <td>1</td>\n",
       "      <td>19</td>\n",
       "    </tr>\n",
       "    <tr>\n",
       "      <th>8</th>\n",
       "      <td>4</td>\n",
       "      <td>2</td>\n",
       "      <td>2</td>\n",
       "      <td>9</td>\n",
       "    </tr>\n",
       "    <tr>\n",
       "      <th>13</th>\n",
       "      <td>8</td>\n",
       "      <td>2</td>\n",
       "      <td>2</td>\n",
       "      <td>5</td>\n",
       "    </tr>\n",
       "    <tr>\n",
       "      <th>15</th>\n",
       "      <td>6</td>\n",
       "      <td>2</td>\n",
       "      <td>1</td>\n",
       "      <td>5</td>\n",
       "    </tr>\n",
       "    <tr>\n",
       "      <th>20</th>\n",
       "      <td>8</td>\n",
       "      <td>2</td>\n",
       "      <td>1</td>\n",
       "      <td>3</td>\n",
       "    </tr>\n",
       "    <tr>\n",
       "      <th>27</th>\n",
       "      <td>6</td>\n",
       "      <td>2</td>\n",
       "      <td>2</td>\n",
       "      <td>2</td>\n",
       "    </tr>\n",
       "    <tr>\n",
       "      <th>32</th>\n",
       "      <td>6</td>\n",
       "      <td>2</td>\n",
       "      <td>3</td>\n",
       "      <td>1</td>\n",
       "    </tr>\n",
       "    <tr>\n",
       "      <th>35</th>\n",
       "      <td>8</td>\n",
       "      <td>2</td>\n",
       "      <td>4</td>\n",
       "      <td>1</td>\n",
       "    </tr>\n",
       "    <tr>\n",
       "      <th>37</th>\n",
       "      <td>10</td>\n",
       "      <td>2</td>\n",
       "      <td>2</td>\n",
       "      <td>1</td>\n",
       "    </tr>\n",
       "    <tr>\n",
       "      <th>38</th>\n",
       "      <td>10</td>\n",
       "      <td>2</td>\n",
       "      <td>4</td>\n",
       "      <td>1</td>\n",
       "    </tr>\n",
       "    <tr>\n",
       "      <th>39</th>\n",
       "      <td>12</td>\n",
       "      <td>2</td>\n",
       "      <td>1</td>\n",
       "      <td>1</td>\n",
       "    </tr>\n",
       "    <tr>\n",
       "      <th>40</th>\n",
       "      <td>12</td>\n",
       "      <td>2</td>\n",
       "      <td>2</td>\n",
       "      <td>1</td>\n",
       "    </tr>\n",
       "    <tr>\n",
       "      <th>41</th>\n",
       "      <td>12</td>\n",
       "      <td>2</td>\n",
       "      <td>3</td>\n",
       "      <td>1</td>\n",
       "    </tr>\n",
       "    <tr>\n",
       "      <th>42</th>\n",
       "      <td>14</td>\n",
       "      <td>2</td>\n",
       "      <td>2</td>\n",
       "      <td>1</td>\n",
       "    </tr>\n",
       "    <tr>\n",
       "      <th>44</th>\n",
       "      <td>16</td>\n",
       "      <td>2</td>\n",
       "      <td>2</td>\n",
       "      <td>1</td>\n",
       "    </tr>\n",
       "    <tr>\n",
       "      <th>45</th>\n",
       "      <td>16</td>\n",
       "      <td>2</td>\n",
       "      <td>4</td>\n",
       "      <td>1</td>\n",
       "    </tr>\n",
       "    <tr>\n",
       "      <th>47</th>\n",
       "      <td>22</td>\n",
       "      <td>2</td>\n",
       "      <td>3</td>\n",
       "      <td>1</td>\n",
       "    </tr>\n",
       "    <tr>\n",
       "      <th>10</th>\n",
       "      <td>3</td>\n",
       "      <td>3</td>\n",
       "      <td>1</td>\n",
       "      <td>9</td>\n",
       "    </tr>\n",
       "    <tr>\n",
       "      <th>14</th>\n",
       "      <td>6</td>\n",
       "      <td>3</td>\n",
       "      <td>1</td>\n",
       "      <td>5</td>\n",
       "    </tr>\n",
       "    <tr>\n",
       "      <th>18</th>\n",
       "      <td>6</td>\n",
       "      <td>3</td>\n",
       "      <td>2</td>\n",
       "      <td>3</td>\n",
       "    </tr>\n",
       "    <tr>\n",
       "      <th>36</th>\n",
       "      <td>9</td>\n",
       "      <td>3</td>\n",
       "      <td>1</td>\n",
       "      <td>1</td>\n",
       "    </tr>\n",
       "    <tr>\n",
       "      <th>43</th>\n",
       "      <td>15</td>\n",
       "      <td>3</td>\n",
       "      <td>3</td>\n",
       "      <td>1</td>\n",
       "    </tr>\n",
       "    <tr>\n",
       "      <th>46</th>\n",
       "      <td>18</td>\n",
       "      <td>3</td>\n",
       "      <td>2</td>\n",
       "      <td>1</td>\n",
       "    </tr>\n",
       "    <tr>\n",
       "      <th>48</th>\n",
       "      <td>24</td>\n",
       "      <td>3</td>\n",
       "      <td>3</td>\n",
       "      <td>1</td>\n",
       "    </tr>\n",
       "    <tr>\n",
       "      <th>49</th>\n",
       "      <td>36</td>\n",
       "      <td>3</td>\n",
       "      <td>3</td>\n",
       "      <td>1</td>\n",
       "    </tr>\n",
       "    <tr>\n",
       "      <th>17</th>\n",
       "      <td>4</td>\n",
       "      <td>4</td>\n",
       "      <td>1</td>\n",
       "      <td>4</td>\n",
       "    </tr>\n",
       "    <tr>\n",
       "      <th>28</th>\n",
       "      <td>8</td>\n",
       "      <td>4</td>\n",
       "      <td>1</td>\n",
       "      <td>2</td>\n",
       "    </tr>\n",
       "    <tr>\n",
       "      <th>50</th>\n",
       "      <td>36</td>\n",
       "      <td>4</td>\n",
       "      <td>1</td>\n",
       "      <td>1</td>\n",
       "    </tr>\n",
       "    <tr>\n",
       "      <th>51</th>\n",
       "      <td>40</td>\n",
       "      <td>4</td>\n",
       "      <td>1</td>\n",
       "      <td>1</td>\n",
       "    </tr>\n",
       "  </tbody>\n",
       "</table>\n",
       "</div>"
      ],
      "text/plain": [
       "    n_tcrs  n_patterns  n_patients  cnt\n",
       "0        1           1           1  758\n",
       "1        2           1           1  134\n",
       "3        3           1           1   33\n",
       "4        2           1           2   29\n",
       "6        4           1           1   16\n",
       "7        3           1           2   11\n",
       "9        5           1           1    9\n",
       "11       5           1           2    6\n",
       "12       4           1           2    5\n",
       "16       6           1           1    4\n",
       "19       3           1           3    3\n",
       "21       7           1           1    3\n",
       "22       4           1           3    2\n",
       "23       5           1           3    2\n",
       "24       9           1           2    2\n",
       "25       5           1           4    2\n",
       "26       6           1           4    2\n",
       "29       8           1           4    2\n",
       "30       4           1           4    1\n",
       "31       6           1           2    1\n",
       "33       7           1           4    1\n",
       "34       7           1           2    1\n",
       "2        2           2           1   85\n",
       "5        4           2           1   19\n",
       "8        4           2           2    9\n",
       "13       8           2           2    5\n",
       "15       6           2           1    5\n",
       "20       8           2           1    3\n",
       "27       6           2           2    2\n",
       "32       6           2           3    1\n",
       "35       8           2           4    1\n",
       "37      10           2           2    1\n",
       "38      10           2           4    1\n",
       "39      12           2           1    1\n",
       "40      12           2           2    1\n",
       "41      12           2           3    1\n",
       "42      14           2           2    1\n",
       "44      16           2           2    1\n",
       "45      16           2           4    1\n",
       "47      22           2           3    1\n",
       "10       3           3           1    9\n",
       "14       6           3           1    5\n",
       "18       6           3           2    3\n",
       "36       9           3           1    1\n",
       "43      15           3           3    1\n",
       "46      18           3           2    1\n",
       "48      24           3           3    1\n",
       "49      36           3           3    1\n",
       "17       4           4           1    4\n",
       "28       8           4           1    2\n",
       "50      36           4           1    1\n",
       "51      40           4           1    1"
      ]
     },
     "execution_count": 16,
     "metadata": {},
     "output_type": "execute_result"
    }
   ],
   "source": [
    "tcr_df.value_counts().reset_index(name='cnt').sort_values(['n_patterns', 'cnt'], ascending=[True, False])"
   ]
  },
  {
   "cell_type": "markdown",
   "id": "9cfdfafd-7863-4aba-9a5a-0706b0f1eec9",
   "metadata": {},
   "source": [
    "# IEDB HLA binding affinity"
   ]
  },
  {
   "cell_type": "code",
   "execution_count": 17,
   "id": "d2257ab9-e00d-454e-b6a1-d717ac8e6405",
   "metadata": {},
   "outputs": [],
   "source": [
    "IEDB_QUERY = pathlib.Path('02_iedb_query')"
   ]
  },
  {
   "cell_type": "code",
   "execution_count": 18,
   "id": "cab9be9e-1537-4422-913a-a1260e7f0375",
   "metadata": {},
   "outputs": [],
   "source": [
    "os.makedirs(IEDB_QUERY, exist_ok=True)"
   ]
  },
  {
   "cell_type": "code",
   "execution_count": 19,
   "id": "59920013-b87d-46d4-bf57-1ac8cf2aba2e",
   "metadata": {},
   "outputs": [],
   "source": [
    "hla_info = all_hlas.groupby('study_id').agg({\n",
    "    'hla_a': tuple,\n",
    "    'hla_b': tuple\n",
    "}).reset_index()"
   ]
  },
  {
   "cell_type": "code",
   "execution_count": 20,
   "id": "6653d463-9270-42dc-9133-38584280617f",
   "metadata": {},
   "outputs": [],
   "source": [
    "mira_hla = mira.merge(hla_info, on='study_id', how='left')"
   ]
  },
  {
   "cell_type": "markdown",
   "id": "ecfa3a33-61a8-4204-bef9-a3f06a32899c",
   "metadata": {},
   "source": [
    "These have missing HLA information"
   ]
  },
  {
   "cell_type": "code",
   "execution_count": null,
   "id": "de109d0c-7344-4714-88d0-9130cb288644",
   "metadata": {},
   "outputs": [],
   "source": [
    "mira_hla.loc[mira_hla.hla_a.isna()]"
   ]
  },
  {
   "cell_type": "code",
   "execution_count": 22,
   "id": "e847e396-4cfc-4b42-aaf6-64977e7379d5",
   "metadata": {},
   "outputs": [],
   "source": [
    "all_epitopes = pd.Series(pd.Series(itertools.chain(*mira_hla.Amino_Acids.str.split(','))).unique())"
   ]
  },
  {
   "cell_type": "code",
   "execution_count": 23,
   "id": "fb17411f-64bb-40c3-9e80-bf5bb8de253c",
   "metadata": {},
   "outputs": [],
   "source": [
    "def generate_fastq(epitopes):\n",
    "    epitope_fastq = ''\n",
    "    for epitope in epitopes:\n",
    "        epitope_fastq += f'> {epitope}\\n{epitope}\\n\\n'\n",
    "    return epitope_fastq"
   ]
  },
  {
   "cell_type": "code",
   "execution_count": 24,
   "id": "17756c37-706a-4072-826a-99ba6ff1fc43",
   "metadata": {},
   "outputs": [],
   "source": [
    "epitope_fastqs = all_epitopes.groupby(all_epitopes.str.len()).apply(generate_fastq)"
   ]
  },
  {
   "cell_type": "code",
   "execution_count": 25,
   "id": "7e385375-8ace-47d9-ad1b-ee0176b92499",
   "metadata": {},
   "outputs": [],
   "source": [
    "for length, fastq in epitope_fastqs.items():\n",
    "    with open(IEDB_QUERY / f'epitopes_{length}.fasta', 'w') as f:\n",
    "        f.write(fastq)"
   ]
  },
  {
   "cell_type": "code",
   "execution_count": 26,
   "id": "3d28e0af-fe4b-4201-a857-7774e6cdbef8",
   "metadata": {},
   "outputs": [],
   "source": [
    "IEDB_TOOL = '/projects/p31980/MoralesNebreda_Lab/tools/mhc_i/src/predict_binding.py'"
   ]
  },
  {
   "cell_type": "code",
   "execution_count": 27,
   "id": "dd22e54a-4bcd-41f1-a611-4f4e7997ea78",
   "metadata": {},
   "outputs": [],
   "source": [
    "unique_hlas = 'HLA-' + pd.Series(pd.concat([all_hlas.hla_a, all_hlas.hla_b]).unique())"
   ]
  },
  {
   "cell_type": "code",
   "execution_count": 28,
   "id": "b95e6d07-b304-4df8-ac85-f58f84c8b7aa",
   "metadata": {},
   "outputs": [
    {
     "name": "stdout",
     "output_type": "stream",
     "text": [
      "CPU times: user 16.7 ms, sys: 5.65 ms, total: 22.4 ms\n",
      "Wall time: 48.4 ms\n"
     ]
    }
   ],
   "source": [
    "%%time\n",
    "if (IEDB_QUERY / 'results.csv').exists():\n",
    "    iedb_results = pd.read_csv(IEDB_QUERY / 'results.csv', index_col=0)\n",
    "else:\n",
    "    iedb_results = []\n",
    "    for length in epitope_fastqs.index:\n",
    "        command = [\n",
    "            'python',\n",
    "            IEDB_TOOL,\n",
    "            'netmhcpan_el',\n",
    "            ','.join(unique_hlas),\n",
    "            ','.join([str(length)] * unique_hlas.size),\n",
    "            str(IEDB_QUERY / f'epitopes_{length}.fasta')\n",
    "        ]\n",
    "        result = subprocess.run(command, capture_output=True)\n",
    "        iedb_results.append(pd.read_table(io.StringIO(result.stdout.decode())))\n",
    "    iedb_results = pd.concat(iedb_results)\n",
    "    iedb_results.reset_index(drop=True, inplace=True)\n",
    "    iedb_results.to_csv(IEDB_QUERY / 'results.csv')"
   ]
  },
  {
   "cell_type": "code",
   "execution_count": 29,
   "id": "91e28487-968c-45da-a71a-1fd5e9d3bad4",
   "metadata": {},
   "outputs": [],
   "source": [
    "iedb_results.set_index(['allele', 'peptide'], inplace=True)"
   ]
  },
  {
   "cell_type": "code",
   "execution_count": 30,
   "id": "a44f38ac-eda3-4db4-a744-7536ea1594aa",
   "metadata": {},
   "outputs": [
    {
     "data": {
      "text/html": [
       "<div>\n",
       "<style scoped>\n",
       "    .dataframe tbody tr th:only-of-type {\n",
       "        vertical-align: middle;\n",
       "    }\n",
       "\n",
       "    .dataframe tbody tr th {\n",
       "        vertical-align: top;\n",
       "    }\n",
       "\n",
       "    .dataframe thead th {\n",
       "        text-align: right;\n",
       "    }\n",
       "</style>\n",
       "<table border=\"1\" class=\"dataframe\">\n",
       "  <thead>\n",
       "    <tr style=\"text-align: right;\">\n",
       "      <th></th>\n",
       "      <th></th>\n",
       "      <th>seq_num</th>\n",
       "      <th>start</th>\n",
       "      <th>end</th>\n",
       "      <th>length</th>\n",
       "      <th>core</th>\n",
       "      <th>icore</th>\n",
       "      <th>score</th>\n",
       "      <th>rank</th>\n",
       "    </tr>\n",
       "    <tr>\n",
       "      <th>allele</th>\n",
       "      <th>peptide</th>\n",
       "      <th></th>\n",
       "      <th></th>\n",
       "      <th></th>\n",
       "      <th></th>\n",
       "      <th></th>\n",
       "      <th></th>\n",
       "      <th></th>\n",
       "      <th></th>\n",
       "    </tr>\n",
       "  </thead>\n",
       "  <tbody>\n",
       "    <tr>\n",
       "      <th rowspan=\"3\" valign=\"top\">HLA-B*42:01</th>\n",
       "      <th>QPYRVVVL</th>\n",
       "      <td>3</td>\n",
       "      <td>1</td>\n",
       "      <td>8</td>\n",
       "      <td>8</td>\n",
       "      <td>QPY-RVVVL</td>\n",
       "      <td>QPYRVVVL</td>\n",
       "      <td>0.917296</td>\n",
       "      <td>0.05</td>\n",
       "    </tr>\n",
       "    <tr>\n",
       "      <th>APKEIIFL</th>\n",
       "      <td>1</td>\n",
       "      <td>1</td>\n",
       "      <td>8</td>\n",
       "      <td>8</td>\n",
       "      <td>APKEIIF-L</td>\n",
       "      <td>APKEIIFL</td>\n",
       "      <td>0.849793</td>\n",
       "      <td>0.08</td>\n",
       "    </tr>\n",
       "    <tr>\n",
       "      <th>LPQGFSAL</th>\n",
       "      <td>6</td>\n",
       "      <td>1</td>\n",
       "      <td>8</td>\n",
       "      <td>8</td>\n",
       "      <td>LPQ-GFSAL</td>\n",
       "      <td>LPQGFSAL</td>\n",
       "      <td>0.827093</td>\n",
       "      <td>0.09</td>\n",
       "    </tr>\n",
       "    <tr>\n",
       "      <th>HLA-B*08:01</th>\n",
       "      <th>QPYRVVVL</th>\n",
       "      <td>3</td>\n",
       "      <td>1</td>\n",
       "      <td>8</td>\n",
       "      <td>8</td>\n",
       "      <td>QPY-RVVVL</td>\n",
       "      <td>QPYRVVVL</td>\n",
       "      <td>0.762711</td>\n",
       "      <td>0.05</td>\n",
       "    </tr>\n",
       "    <tr>\n",
       "      <th>HLA-B*42:01</th>\n",
       "      <th>APHGVVFL</th>\n",
       "      <td>7</td>\n",
       "      <td>1</td>\n",
       "      <td>8</td>\n",
       "      <td>8</td>\n",
       "      <td>APH-GVVFL</td>\n",
       "      <td>APHGVVFL</td>\n",
       "      <td>0.757724</td>\n",
       "      <td>0.14</td>\n",
       "    </tr>\n",
       "    <tr>\n",
       "      <th>...</th>\n",
       "      <th>...</th>\n",
       "      <td>...</td>\n",
       "      <td>...</td>\n",
       "      <td>...</td>\n",
       "      <td>...</td>\n",
       "      <td>...</td>\n",
       "      <td>...</td>\n",
       "      <td>...</td>\n",
       "      <td>...</td>\n",
       "    </tr>\n",
       "    <tr>\n",
       "      <th>HLA-B*39:01</th>\n",
       "      <th>STDTGVEHVTFFIY</th>\n",
       "      <td>1</td>\n",
       "      <td>1</td>\n",
       "      <td>14</td>\n",
       "      <td>14</td>\n",
       "      <td>SEHVTFFIY</td>\n",
       "      <td>STDTGVEHVTFFIY</td>\n",
       "      <td>0.000005</td>\n",
       "      <td>66.00</td>\n",
       "    </tr>\n",
       "    <tr>\n",
       "      <th>HLA-B*40:01</th>\n",
       "      <th>VLPPLLTDEMIAQY</th>\n",
       "      <td>3</td>\n",
       "      <td>1</td>\n",
       "      <td>14</td>\n",
       "      <td>14</td>\n",
       "      <td>VTDEMIAQY</td>\n",
       "      <td>VLPPLLTDEMIAQY</td>\n",
       "      <td>0.000004</td>\n",
       "      <td>56.00</td>\n",
       "    </tr>\n",
       "    <tr>\n",
       "      <th>HLA-B*39:01</th>\n",
       "      <th>VLPPLLTDEMIAQY</th>\n",
       "      <td>3</td>\n",
       "      <td>1</td>\n",
       "      <td>14</td>\n",
       "      <td>14</td>\n",
       "      <td>VLDEMIAQY</td>\n",
       "      <td>VLPPLLTDEMIAQY</td>\n",
       "      <td>0.000004</td>\n",
       "      <td>70.00</td>\n",
       "    </tr>\n",
       "    <tr>\n",
       "      <th>HLA-B*81:01</th>\n",
       "      <th>STDTGVEHVTFFIY</th>\n",
       "      <td>1</td>\n",
       "      <td>1</td>\n",
       "      <td>14</td>\n",
       "      <td>14</td>\n",
       "      <td>STDTGVEHY</td>\n",
       "      <td>STDTGVEHVTFFIY</td>\n",
       "      <td>0.000004</td>\n",
       "      <td>66.00</td>\n",
       "    </tr>\n",
       "    <tr>\n",
       "      <th>HLA-B*48:01</th>\n",
       "      <th>STDTGVEHVTFFIY</th>\n",
       "      <td>1</td>\n",
       "      <td>1</td>\n",
       "      <td>14</td>\n",
       "      <td>14</td>\n",
       "      <td>SEHVTFFIY</td>\n",
       "      <td>STDTGVEHVTFFIY</td>\n",
       "      <td>0.000004</td>\n",
       "      <td>59.00</td>\n",
       "    </tr>\n",
       "  </tbody>\n",
       "</table>\n",
       "<p>9310 rows × 8 columns</p>\n",
       "</div>"
      ],
      "text/plain": [
       "                            seq_num  start  end  length       core  \\\n",
       "allele      peptide                                                  \n",
       "HLA-B*42:01 QPYRVVVL              3      1    8       8  QPY-RVVVL   \n",
       "            APKEIIFL              1      1    8       8  APKEIIF-L   \n",
       "            LPQGFSAL              6      1    8       8  LPQ-GFSAL   \n",
       "HLA-B*08:01 QPYRVVVL              3      1    8       8  QPY-RVVVL   \n",
       "HLA-B*42:01 APHGVVFL              7      1    8       8  APH-GVVFL   \n",
       "...                             ...    ...  ...     ...        ...   \n",
       "HLA-B*39:01 STDTGVEHVTFFIY        1      1   14      14  SEHVTFFIY   \n",
       "HLA-B*40:01 VLPPLLTDEMIAQY        3      1   14      14  VTDEMIAQY   \n",
       "HLA-B*39:01 VLPPLLTDEMIAQY        3      1   14      14  VLDEMIAQY   \n",
       "HLA-B*81:01 STDTGVEHVTFFIY        1      1   14      14  STDTGVEHY   \n",
       "HLA-B*48:01 STDTGVEHVTFFIY        1      1   14      14  SEHVTFFIY   \n",
       "\n",
       "                                     icore     score   rank  \n",
       "allele      peptide                                          \n",
       "HLA-B*42:01 QPYRVVVL              QPYRVVVL  0.917296   0.05  \n",
       "            APKEIIFL              APKEIIFL  0.849793   0.08  \n",
       "            LPQGFSAL              LPQGFSAL  0.827093   0.09  \n",
       "HLA-B*08:01 QPYRVVVL              QPYRVVVL  0.762711   0.05  \n",
       "HLA-B*42:01 APHGVVFL              APHGVVFL  0.757724   0.14  \n",
       "...                                    ...       ...    ...  \n",
       "HLA-B*39:01 STDTGVEHVTFFIY  STDTGVEHVTFFIY  0.000005  66.00  \n",
       "HLA-B*40:01 VLPPLLTDEMIAQY  VLPPLLTDEMIAQY  0.000004  56.00  \n",
       "HLA-B*39:01 VLPPLLTDEMIAQY  VLPPLLTDEMIAQY  0.000004  70.00  \n",
       "HLA-B*81:01 STDTGVEHVTFFIY  STDTGVEHVTFFIY  0.000004  66.00  \n",
       "HLA-B*48:01 STDTGVEHVTFFIY  STDTGVEHVTFFIY  0.000004  59.00  \n",
       "\n",
       "[9310 rows x 8 columns]"
      ]
     },
     "execution_count": 30,
     "metadata": {},
     "output_type": "execute_result"
    }
   ],
   "source": [
    "iedb_results"
   ]
  },
  {
   "cell_type": "markdown",
   "id": "94e95b2b-3397-4f95-829e-891b8a5dbde8",
   "metadata": {},
   "source": [
    "## TODO\n",
    "\n",
    "1. for each row in mira\n",
    "2. for each epitope in the row\n",
    "3. find best (smallest) rank score for all allele\n",
    "4. report best rank score among epitopes for row"
   ]
  },
  {
   "cell_type": "code",
   "execution_count": 31,
   "id": "3873b3b3-b9ae-4d8a-a33e-aa306433b241",
   "metadata": {},
   "outputs": [],
   "source": [
    "iedb_mira_index = mira_hla.Amino_Acids.apply(\n",
    "    lambda x: pd.Series(x.split(','))\n",
    ").reset_index(names='id').melt(\n",
    "    id_vars='id',\n",
    "    value_name='epitope'\n",
    ").dropna()"
   ]
  },
  {
   "cell_type": "code",
   "execution_count": 32,
   "id": "9b4d7aa5-40d9-44ad-b338-bc070aee8708",
   "metadata": {},
   "outputs": [],
   "source": [
    "iedb_mira_index = iedb_mira_index.merge(mira_hla[['hla_a', 'hla_b']], left_on='id', right_index=True)"
   ]
  },
  {
   "cell_type": "code",
   "execution_count": 33,
   "id": "4c86f419-010f-457d-9009-587c017d07e8",
   "metadata": {},
   "outputs": [],
   "source": [
    "iedb_mira_index = iedb_mira_index.dropna()"
   ]
  },
  {
   "cell_type": "code",
   "execution_count": 34,
   "id": "1a2b2e18-0f9b-48e1-9d21-2f90d5b37dec",
   "metadata": {},
   "outputs": [],
   "source": [
    "iedb_mira_index = iedb_mira_index.explode('hla_a').explode('hla_b').melt(\n",
    "    id_vars=['id', 'epitope'],\n",
    "    value_vars=['hla_a', 'hla_b'],\n",
    "    value_name='hla'\n",
    ")"
   ]
  },
  {
   "cell_type": "code",
   "execution_count": 35,
   "id": "a985e997-3937-48c1-a527-4bc9d669df78",
   "metadata": {},
   "outputs": [],
   "source": [
    "iedb_mira_index = iedb_mira_index.groupby('id').apply(\n",
    "    lambda x: x.drop_duplicates(),\n",
    "    include_groups=False\n",
    ").reset_index(names=['id', '_'])"
   ]
  },
  {
   "cell_type": "code",
   "execution_count": 36,
   "id": "98f82e0d-186d-4d83-a8bd-f4843f60a3e7",
   "metadata": {},
   "outputs": [],
   "source": [
    "iedb_mira_index.hla = 'HLA-' + iedb_mira_index.hla"
   ]
  },
  {
   "cell_type": "code",
   "execution_count": 37,
   "id": "2c397167-0566-40a3-9837-4ab21cc01347",
   "metadata": {},
   "outputs": [
    {
     "data": {
      "text/plain": [
       "(11314, 5)"
      ]
     },
     "execution_count": 37,
     "metadata": {},
     "output_type": "execute_result"
    }
   ],
   "source": [
    "iedb_mira_index.shape"
   ]
  },
  {
   "cell_type": "code",
   "execution_count": 38,
   "id": "e9bd7b41-6002-4512-a6cf-cdd7231183cd",
   "metadata": {},
   "outputs": [],
   "source": [
    "iedb_mira_index['binding_rank'] = iedb_results['rank'].loc[\n",
    "    iedb_mira_index.apply(lambda r: (r.hla, r.epitope), axis=1).values\n",
    "].values"
   ]
  },
  {
   "cell_type": "code",
   "execution_count": 39,
   "id": "05634d07-4752-4309-973b-193c2bd9e5e2",
   "metadata": {},
   "outputs": [],
   "source": [
    "iedb_affinity = iedb_mira_index.sort_values(['id', 'binding_rank']).groupby('id').head(1).set_index('id')"
   ]
  },
  {
   "cell_type": "code",
   "execution_count": 40,
   "id": "12886044-d4b0-46c1-90cd-50252e91656d",
   "metadata": {},
   "outputs": [],
   "source": [
    "idx = mira_hla.index.isin(iedb_affinity.index)\n",
    "mira_hla.loc[idx, 'binding_rank'] = iedb_affinity.binding_rank[mira_hla.index[idx]]"
   ]
  },
  {
   "cell_type": "code",
   "execution_count": 41,
   "id": "6ff57659-75a8-4ebc-a64f-08fe01dda400",
   "metadata": {},
   "outputs": [
    {
     "data": {
      "text/plain": [
       "(825, 56)"
      ]
     },
     "execution_count": 41,
     "metadata": {},
     "output_type": "execute_result"
    }
   ],
   "source": [
    "mira_hla.shape"
   ]
  },
  {
   "cell_type": "code",
   "execution_count": 42,
   "id": "dc95178d-3f31-4557-a915-90299883b6ba",
   "metadata": {},
   "outputs": [
    {
     "data": {
      "text/plain": [
       "574"
      ]
     },
     "execution_count": 42,
     "metadata": {},
     "output_type": "execute_result"
    }
   ],
   "source": [
    "mira_hla.binding_rank.lt(1).sum()"
   ]
  },
  {
   "cell_type": "code",
   "execution_count": 43,
   "id": "ad77ca99-898c-4e63-8d65-e150409717e4",
   "metadata": {},
   "outputs": [
    {
     "data": {
      "text/plain": [
       "<Axes: >"
      ]
     },
     "execution_count": 43,
     "metadata": {},
     "output_type": "execute_result"
    },
    {
     "data": {
      "image/png": "[encoded data removed]",
      "text/plain": [
       "<Figure size 640x480 with 1 Axes>"
      ]
     },
     "metadata": {
      "image/png": {
       "height": 413,
       "width": 543
      }
     },
     "output_type": "display_data"
    }
   ],
   "source": [
    "np.log2(mira_hla.binding_rank).hist(bins=25)"
   ]
  },
  {
   "cell_type": "code",
   "execution_count": 44,
   "id": "d9fe5681-dcea-4a2a-90ee-74ec3c030a1b",
   "metadata": {},
   "outputs": [
    {
     "data": {
      "text/plain": [
       "<Axes: ylabel='Frequency'>"
      ]
     },
     "execution_count": 44,
     "metadata": {},
     "output_type": "execute_result"
    },
    {
     "data": {
      "image/png": "[encoded data removed]",
      "text/plain": [
       "<Figure size 640x480 with 1 Axes>"
      ]
     },
     "metadata": {
      "image/png": {
       "height": 413,
       "width": 571
      }
     },
     "output_type": "display_data"
    }
   ],
   "source": [
    "mira_hla.binding_rank.plot.hist(bins=50)"
   ]
  },
  {
   "cell_type": "code",
   "execution_count": 45,
   "id": "9abc1244-c75a-4853-a1de-97091fe91184",
   "metadata": {},
   "outputs": [
    {
     "data": {
      "text/plain": [
       "70"
      ]
     },
     "execution_count": 45,
     "metadata": {},
     "output_type": "execute_result"
    }
   ],
   "source": [
    "mira_hla.binding_rank.ge(5).sum()"
   ]
  },
  {
   "cell_type": "code",
   "execution_count": null,
   "id": "876a8a6d-994a-41a4-9290-11bdc0d61a6a",
   "metadata": {},
   "outputs": [],
   "source": [
    "mira_hla"
   ]
  },
  {
   "cell_type": "markdown",
   "id": "de63663b-548a-4f1d-93bb-5cdbb630724d",
   "metadata": {},
   "source": [
    "## JOIN Pgen"
   ]
  },
  {
   "cell_type": "code",
   "execution_count": 47,
   "id": "658ad7c6-2d3f-4883-ba04-f964c7498c5f",
   "metadata": {},
   "outputs": [],
   "source": [
    "pgens = pd.read_csv('../analysis/post_gliph_filter_nik_with_pgen.csv', index_col=0)"
   ]
  },
  {
   "cell_type": "code",
   "execution_count": 48,
   "id": "a3de39ea-5e11-49e2-83fb-e33922d4b9c4",
   "metadata": {},
   "outputs": [
    {
     "data": {
      "text/html": [
       "<div>\n",
       "<style scoped>\n",
       "    .dataframe tbody tr th:only-of-type {\n",
       "        vertical-align: middle;\n",
       "    }\n",
       "\n",
       "    .dataframe tbody tr th {\n",
       "        vertical-align: top;\n",
       "    }\n",
       "\n",
       "    .dataframe thead th {\n",
       "        text-align: right;\n",
       "    }\n",
       "</style>\n",
       "<table border=\"1\" class=\"dataframe\">\n",
       "  <thead>\n",
       "    <tr style=\"text-align: right;\">\n",
       "      <th></th>\n",
       "      <th>cdr3_b_aa</th>\n",
       "      <th>pgen_log10</th>\n",
       "    </tr>\n",
       "  </thead>\n",
       "  <tbody>\n",
       "    <tr>\n",
       "      <th>0</th>\n",
       "      <td>CAIGTGDSNQPQHF</td>\n",
       "      <td>-7.939531</td>\n",
       "    </tr>\n",
       "    <tr>\n",
       "      <th>4</th>\n",
       "      <td>CAISTGDSNQPQHF</td>\n",
       "      <td>-8.174166</td>\n",
       "    </tr>\n",
       "    <tr>\n",
       "      <th>9</th>\n",
       "      <td>CASGTGDSNQPQHF</td>\n",
       "      <td>-7.053136</td>\n",
       "    </tr>\n",
       "    <tr>\n",
       "      <th>11</th>\n",
       "      <td>CASSTGDSNQPQHF</td>\n",
       "      <td>-6.332912</td>\n",
       "    </tr>\n",
       "    <tr>\n",
       "      <th>13</th>\n",
       "      <td>CASWTGDSNQPQHF</td>\n",
       "      <td>-7.736775</td>\n",
       "    </tr>\n",
       "    <tr>\n",
       "      <th>...</th>\n",
       "      <td>...</td>\n",
       "      <td>...</td>\n",
       "    </tr>\n",
       "    <tr>\n",
       "      <th>1932</th>\n",
       "      <td>CASSYSWGANTEAFF</td>\n",
       "      <td>-8.282960</td>\n",
       "    </tr>\n",
       "    <tr>\n",
       "      <th>1933</th>\n",
       "      <td>CASSYSWGIQPQHF</td>\n",
       "      <td>-8.728777</td>\n",
       "    </tr>\n",
       "    <tr>\n",
       "      <th>1934</th>\n",
       "      <td>CASSYSWGNQPQHF</td>\n",
       "      <td>-7.466566</td>\n",
       "    </tr>\n",
       "    <tr>\n",
       "      <th>1935</th>\n",
       "      <td>CASSYSWGPGTGELFF</td>\n",
       "      <td>-9.270532</td>\n",
       "    </tr>\n",
       "    <tr>\n",
       "      <th>1936</th>\n",
       "      <td>CASSYSWGSLDGYSYEQYF</td>\n",
       "      <td>-14.072537</td>\n",
       "    </tr>\n",
       "  </tbody>\n",
       "</table>\n",
       "<p>1196 rows × 2 columns</p>\n",
       "</div>"
      ],
      "text/plain": [
       "                cdr3_b_aa  pgen_log10\n",
       "0          CAIGTGDSNQPQHF   -7.939531\n",
       "4          CAISTGDSNQPQHF   -8.174166\n",
       "9          CASGTGDSNQPQHF   -7.053136\n",
       "11         CASSTGDSNQPQHF   -6.332912\n",
       "13         CASWTGDSNQPQHF   -7.736775\n",
       "...                   ...         ...\n",
       "1932      CASSYSWGANTEAFF   -8.282960\n",
       "1933       CASSYSWGIQPQHF   -8.728777\n",
       "1934       CASSYSWGNQPQHF   -7.466566\n",
       "1935     CASSYSWGPGTGELFF   -9.270532\n",
       "1936  CASSYSWGSLDGYSYEQYF  -14.072537\n",
       "\n",
       "[1196 rows x 2 columns]"
      ]
     },
     "execution_count": 48,
     "metadata": {},
     "output_type": "execute_result"
    }
   ],
   "source": [
    "pgens[['cdr3_b_aa', 'pgen_log10']].drop_duplicates()"
   ]
  },
  {
   "cell_type": "code",
   "execution_count": 49,
   "id": "5402a40b-3b58-4360-8747-cc1a199be17e",
   "metadata": {},
   "outputs": [
    {
     "data": {
      "text/plain": [
       "1196"
      ]
     },
     "execution_count": 49,
     "metadata": {},
     "output_type": "execute_result"
    }
   ],
   "source": [
    "pgens.cdr3_b_aa.nunique()"
   ]
  },
  {
   "cell_type": "code",
   "execution_count": 50,
   "id": "d9373dff-9a61-4cfe-88b9-94fd4ffca006",
   "metadata": {},
   "outputs": [],
   "source": [
    "tcr_to_pgen = pgens[['cdr3_b_aa', 'pgen_log10']].drop_duplicates().set_index('cdr3_b_aa').pgen_log10"
   ]
  },
  {
   "cell_type": "code",
   "execution_count": 51,
   "id": "bc72421d-a1cd-448a-89ef-bd47a25ba1a4",
   "metadata": {},
   "outputs": [],
   "source": [
    "mira_hla['pgen_log10'] = tcr_to_pgen[mira_hla.TCR].values"
   ]
  },
  {
   "cell_type": "markdown",
   "id": "542ad141-e26a-47db-b2bf-0f3f9d00e299",
   "metadata": {},
   "source": [
    "## SAVE"
   ]
  },
  {
   "cell_type": "code",
   "execution_count": 52,
   "id": "31d72d9b-5755-4dfb-9d0d-4fa384f214d1",
   "metadata": {},
   "outputs": [],
   "source": [
    "mira_hla.to_csv(\n",
    "    '../analysis/mira_iedb_pgen_all.csv'\n",
    ")"
   ]
  },
  {
   "cell_type": "code",
   "execution_count": 53,
   "id": "3dbd40f2-9b1d-473d-a009-e051a7804225",
   "metadata": {},
   "outputs": [],
   "source": [
    "cross_epitopes = pd.read_csv('../analysis/mira_postgliph_epitopes_df_cd8.csv', index_col=0)"
   ]
  },
  {
   "cell_type": "code",
   "execution_count": 54,
   "id": "33632bf5-286b-4b11-a238-3a29b40997d0",
   "metadata": {},
   "outputs": [],
   "source": [
    "non_cov_epitopes_ge_3 = cross_epitopes.Epitope[cross_epitopes.n_noncovid_pts.ge(3)]"
   ]
  },
  {
   "cell_type": "code",
   "execution_count": 55,
   "id": "661d0820-3fea-4133-b311-8c22672187f1",
   "metadata": {},
   "outputs": [],
   "source": [
    "mira_hla.loc[mira_hla.Epitope.isin(non_cov_epitopes_ge_3)].to_csv(\n",
    "    '../analysis/mira_iedb_pgen_non_cov_ge_3.csv'\n",
    ")"
   ]
  },
  {
   "cell_type": "code",
   "execution_count": null,
   "id": "136a7d24-0eb6-4141-a6d8-aa426d3e6a92",
   "metadata": {},
   "outputs": [],
   "source": []
  }
 ],
 "metadata": {
  "kernelspec": {
   "display_name": "tcr",
   "language": "python",
   "name": "tcr"
  },
  "language_info": {
   "codemirror_mode": {
    "name": "ipython",
    "version": 3
   },
   "file_extension": ".py",
   "mimetype": "text/x-python",
   "name": "python",
   "nbconvert_exporter": "python",
   "pygments_lexer": "ipython3",
   "version": "3.11.8"
  }
 },
 "nbformat": 4,
 "nbformat_minor": 5
}
